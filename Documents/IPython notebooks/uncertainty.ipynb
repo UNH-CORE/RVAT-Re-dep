{
 "metadata": {
  "name": "",
  "signature": "sha256:53cfc1a3b7b095c3bf04ca1ef138a93f76fde2b5d005bc56e505c80644059ee5"
 },
 "nbformat": 3,
 "nbformat_minor": 0,
 "worksheets": [
  {
   "cells": [
    {
     "cell_type": "heading",
     "level": 1,
     "metadata": {},
     "source": [
      "RVAT Reynolds number dependence experimental uncertainty analysis"
     ]
    },
    {
     "cell_type": "markdown",
     "metadata": {},
     "source": [
      "Derived quantities we would like to compute uncertainty for:\n",
      "\n",
      "  * $C_P = \\frac{T \\omega}{\\frac{1}{2} \\rho A U_\\infty^3}$\n",
      "    \n",
      "  * $C_D = \\frac{F_L + F_R}{\\frac{1}{2} \\rho A U_\\infty^2}$\n",
      "  \n",
      "  * $\\lambda = \\frac{\\omega R}{U_\\infty}$\n",
      "  \n",
      "We will use the methods defined in Section 2-5 of Coleman and Steele (2009), where uncertainty is defined as\n",
      "\n",
      "$$ u_c^2 = s_X^2 + \\sum_{k=1}^{M} b_k^2, $$\n",
      "\n",
      "where $u$ is the uncertainty, $s_X$ is the sample standard deviation, and $b_k$ is a source of systematic error, which can be obtained from an instrument's calibration/datasheet. For example, if a datasheet claims an instrument to be accurate within $\\pm 1.0 \\text{ N}$, this would be equal to $2b$, and therefore $b = 0.5 \\text{ N}$. "
     ]
    },
    {
     "cell_type": "heading",
     "level": 2,
     "metadata": {},
     "source": [
      "Nominal measurement accuracy of primitive quantities and estimates of systematic uncertainty"
     ]
    },
    {
     "cell_type": "markdown",
     "metadata": {},
     "source": [
      "| Quantity | Nominal accuracy | $b$ |\n",
      "|----------|------------------|-----|\n",
      "| Torque   |  $\\pm 0.5 \\text{ Nm}$   | $0.25 \\text{ Nm} $ |\n",
      "| Turbine angle | $2\\pi/10^{5}/2 = \\pm 3 \\times 10^{-5} \\text{ rad}$ | $1.5 \\times 10^{-5} \\text{ rad}$ |\n",
      "| Carriage position | $\\pm 5 \\times 10^{-6} \\text{ m}$ | $2.5 \\times 10^{-6} \\text{ m}$ |\n",
      "| Drag force (one side) | $\\pm 0.06 \\text{ lbf} = 0.28 \\text{ N} $ | $0.14 \\text{ N} $ |"
     ]
    },
    {
     "cell_type": "heading",
     "level": 2,
     "metadata": {},
     "source": [
      "Computing uncertainty for primitive quantities"
     ]
    },
    {
     "cell_type": "code",
     "collapsed": false,
     "input": [
      "# Get things all setup\n",
      "from __future__ import division, print_function\n",
      "import os\n",
      "import uncertainties as unc\n",
      "import numpy as np\n",
      "import scipy.stats\n",
      "if os.path.split(os.getcwd())[-1] == \"IPython notebooks\":\n",
      "    print(\"Setting working directory to experiment root directory\")\n",
      "    os.chdir(\"../../\")\n",
      "from Modules.processing import *\n",
      "import matplotlib.pyplot as plt\n",
      "import pandas as pd\n",
      "%matplotlib inline\n",
      "plt.style.use(\"ggplot\")\n",
      "\n",
      "b_torque = 0.25\n",
      "b_angle = 1.5e-5\n",
      "b_car_pos = 2.5e-6\n",
      "b_drag = 0.14"
     ],
     "language": "python",
     "metadata": {},
     "outputs": [],
     "prompt_number": 4
    },
    {
     "cell_type": "code",
     "collapsed": false,
     "input": [
      "def calc_uncertainty(quantity, b):\n",
      "    return np.sqrt(quantity.std()**2 + b**2)"
     ],
     "language": "python",
     "metadata": {},
     "outputs": [],
     "prompt_number": 5
    },
    {
     "cell_type": "heading",
     "level": 3,
     "metadata": {},
     "source": [
      "Torque"
     ]
    },
    {
     "cell_type": "code",
     "collapsed": false,
     "input": [
      "run = Run(\"Wake-1.0\", 20)\n",
      "torque = run.torque\n",
      "unc_torque = calc_uncertainty(torque, b_torque)\n",
      "print(\"Torque uncertainty (using all samples) = {:0.0f} Nm\".format(unc_torque))\n",
      "torque = run.torque_per_rev\n",
      "unc_torque = calc_uncertainty(torque, b_torque)\n",
      "print(\"Torque uncertainty (averaging per rev) = {:0.1f} Nm\".format(unc_torque))"
     ],
     "language": "python",
     "metadata": {},
     "outputs": [
      {
       "output_type": "stream",
       "stream": "stdout",
       "text": [
        "Torque uncertainty (using all samples) = 12 Nm\n",
        "Torque uncertainty (averaging per rev) = 0.7 Nm\n"
       ]
      }
     ],
     "prompt_number": 6
    },
    {
     "cell_type": "heading",
     "level": 2,
     "metadata": {},
     "source": [
      "Computing uncertainty for a derived quantity"
     ]
    },
    {
     "cell_type": "markdown",
     "metadata": {},
     "source": [
      "From Coleman and Steele (2009) equation 3.15, the uncertainty of the power coefficient is\n",
      "\n",
      "$$ u_{C_P}^2 = s_{C_P}^2 + b_{C_P}^2, $$\n",
      "\n",
      "where \n",
      "\n",
      "$$ b_{C_P}^2 = \\sum_{i=1}^J \\left( \\frac{\\partial C_P}{\\partial X_i} \\right)^2 b_{X_i}^2. $$\n",
      "\n",
      "For our case, we consider $X = [T, \\omega, U_\\infty ] $. The partial derivatives are then\n",
      "\n",
      "$$ \\frac{\\partial C_P}{\\partial T} = \\frac{\\omega}{\\frac{1}{2} \\rho A U_\\infty^3}, $$\n",
      "\n",
      "$$ \\frac{\\partial C_P}{\\partial \\omega} = \\frac{T}{\\frac{1}{2} \\rho A U_\\infty^3}, $$\n",
      "\n",
      "$$ \\frac{\\partial C_P}{\\partial U_\\infty} = \\frac{-3 T \\omega}{\\frac{1}{2} \\rho A U_\\infty^4}. $$"
     ]
    },
    {
     "cell_type": "heading",
     "level": 3,
     "metadata": {},
     "source": [
      "Power coefficient"
     ]
    },
    {
     "cell_type": "code",
     "collapsed": false,
     "input": [
      "rho = 1000.0\n",
      "area = 1.0\n",
      "omega = run.omega.mean()\n",
      "torque = run.torque.mean()\n",
      "u_infty = run.tow_speed.mean()\n",
      "const = 0.5*rho*area\n",
      "\n",
      "b_cp = np.sqrt((omega/(const*u_infty**3))**2*b_torque**2 + \\\n",
      "               (torque/(const*u_infty**3))**2*b_angle**2 + \\\n",
      "               (-3*torque*omega/(const*u_infty**4))**2*b_car_pos**2)\n",
      "\n",
      "unc_cp = calc_uncertainty(run.cp_per_rev, b_cp)\n",
      "\n",
      "print(\"Uncertainty of C_P = {:.3f}\".format(unc_cp))"
     ],
     "language": "python",
     "metadata": {},
     "outputs": [
      {
       "output_type": "stream",
       "stream": "stdout",
       "text": [
        "Uncertainty of C_P = 0.005\n"
       ]
      }
     ],
     "prompt_number": 7
    },
    {
     "cell_type": "heading",
     "level": 2,
     "metadata": {},
     "source": [
      "Expanded uncertainty"
     ]
    },
    {
     "cell_type": "markdown",
     "metadata": {},
     "source": [
      "The uncertainty calculated above is the combined standard uncertainty. If we want to apply a confidence level, we will obtain the expanded uncertainty\n",
      "\n",
      "$$ U_{\\%} = k_{\\%}u_c ,$$\n",
      "\n",
      "where $k_{\\%}$ is usually chosen from the Student-$t$ distribution for a given percent level of confidence. To choose a $t$-value, we need an estimate for degrees of freedom, which can be obtained from the Welch--Satterhwaite formula\n",
      "\n",
      "$$ \n",
      "\\nu_X = \\frac{\\left(s_X^2 + \\sum_{k=1}^M b_k^2 \\right)^2}\n",
      "             {s_X^4/\\nu_{s_X} + \\sum_{k=1}^M b_k^4/\\nu_{b_k}},\n",
      "$$\n",
      "\n",
      "where $\\nu_{s_X}$ is the number of degrees of freedom associated with $s_X$ and $\\nu_{b_k}$ is the number of degrees of freedom associated with $b_k$. $\\nu_{s_X}$ is simply $N-1$, where the ISO guide recommends\n",
      "\n",
      "$$\n",
      "\\nu_{b_k} = \\frac{1}{2} \\left( \\frac{\\Delta b_k}{b_k} \\right)^{-2},\n",
      "$$\n",
      "\n",
      "where the quantity in parentheses is the relative uncertainty of $b_k$."
     ]
    },
    {
     "cell_type": "code",
     "collapsed": false,
     "input": [
      "# Let's try to calculate nu_cp\n",
      "\n",
      "s_cp = run.cp_per_rev.std()\n",
      "nu_s_cp = len(run.cp_per_rev) - 1\n",
      "# Already have b_cp from above\n",
      "b_cp_rel_unc = 0.25 # A guess\n",
      "nu_b_cp = 0.5*b_cp_rel_unc**(-2)\n",
      "nu_cp = ((s_cp**2 + b_cp**2)**2)/(s_cp**4/nu_s_cp + b_cp**4/nu_b_cp)\n",
      "t = scipy.stats.t.interval(alpha=0.95, df=nu_cp)[-1]\n",
      "exp_unc_cp = t*unc_cp\n",
      "\n",
      "print(\"Degrees of freedom nu_cp = {:.0f}\".format(nu_cp))\n",
      "print(\"Expanded uncertainty of C_P (95% conf) = {:.2f}\".format(exp_unc_cp))"
     ],
     "language": "python",
     "metadata": {},
     "outputs": [
      {
       "output_type": "stream",
       "stream": "stdout",
       "text": [
        "Degrees of freedom nu_cp = 11\n",
        "Expanded uncertainty of C_P (95% conf) = 0.01\n"
       ]
      }
     ],
     "prompt_number": 8
    }
   ],
   "metadata": {}
  }
 ]
}