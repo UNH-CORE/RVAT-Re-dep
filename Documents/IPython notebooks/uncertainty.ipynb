{
 "metadata": {
  "name": "",
  "signature": "sha256:bd051248ec721fa8cccc46ee424c35ba0a36b959bfc4d5b434d8e78ab7c19923"
 },
 "nbformat": 3,
 "nbformat_minor": 0,
 "worksheets": [
  {
   "cells": [
    {
     "cell_type": "markdown",
     "metadata": {},
     "source": [
      "2014 Spring RVAT Reynolds number dependence experiments\n",
      "=======================================================\n",
      "\n",
      "Uncertainty analysis\n",
      "--------------------\n",
      "Derived quantities we would like to put error bars on:\n",
      "\n",
      "  * $C_P = \\frac{T \\omega}{\\frac{1}{2} \\rho A U_\\infty^3}$\n",
      "    \n",
      "  * $C_D = \\frac{F_L + F_R}{\\frac{1}{2} \\rho A U_\\infty^2}$\n",
      "\n",
      "### Nominal measurement accuracy of primitive quantities ###\n",
      "<table style=\"width:400px\">\n",
      "<tr>\n",
      "  <th>Quantity</th>\n",
      "  <th>Accuracy</th> \n",
      "</tr>\n",
      "<tr>\n",
      "  <td>Torque</td>\n",
      "  <td>$1$ Nm</td> \n",
      "</tr>\n",
      "<tr>\n",
      "  <td>Turbine angle</td>\n",
      "  <td>$2\\pi/10^{5} = 6.28 \\times 10^{-5}$ rad</td> \n",
      "</tr>\n",
      "<tr>\n",
      "  <td>Carriage position</td>\n",
      "  <td>$10^{-5}$ m</td> \n",
      "</tr>\n",
      "<tr>\n",
      "  <td>Drag force (one side)</td>\n",
      "  <td>$0.125$ lbf $=0.556$ N</td> \n",
      "</tr>\n",
      "</table>"
     ]
    },
    {
     "cell_type": "code",
     "collapsed": false,
     "input": [
      "from __future__ import division, print_function\n",
      "import os\n",
      "import uncertainties as unc\n",
      "import numpy as np\n",
      "import scipy.stats\n",
      "os.chdir(\"../../\")\n",
      "from Modules import processing\n",
      "\n",
      "run = processing.Run(\"Wake-1.0\", 0)\n",
      "run.calcperf()\n",
      "\n",
      "t_value = scipy.stats.t.interval(alpha=0.95, df=12)[1]\n",
      "\n",
      "print(run.meancp)"
     ],
     "language": "python",
     "metadata": {},
     "outputs": [
      {
       "output_type": "stream",
       "stream": "stdout",
       "text": [
        "Calculating performance for Wake-1.0 run 0...\n",
        "U_nom = 1.0\n",
        "U_enc = 1.00018506384 std = 0.00648379781472\n",
        "tsr = 1.89889399903\n",
        "C_P = 0.251447813647 +/- 0.005374577958498582\n",
        "C_D = 0.93107390013 +/- 0.0011120000000000001\n",
        "0.251447813647\n"
       ]
      }
     ],
     "prompt_number": 1
    },
    {
     "cell_type": "code",
     "collapsed": false,
     "input": [
      "\n",
      "\n",
      "A = 1.0\n",
      "rho = 1000.0\n",
      "\n",
      "# Combining uncertainties (+/-) of torque and omega\n",
      "d_torque = 1.0\n",
      "d_theta = 6.28e-5\n",
      "d_speed = 1e-5\n",
      "d_force = 0.556\n",
      "\n",
      "torque = unc.ufloat(10, d_torque/2)\n",
      "omega = unc.ufloat(4, d_theta)\n",
      "tare_torque = unc.ufloat(1, d_torque)\n",
      "U = unc.ufloat(1, d_speed)\n",
      "drag_left = unc.ufloat(1000, d_force)\n",
      "drag_right = unc.ufloat(1000, d_force)\n",
      "tare_drag = unc.ufloat(10, d_force)\n",
      "drag = drag_left + drag_right\n",
      "\n",
      "print \"Power calcs\"\n",
      "print torque\n",
      "print torque*omega\n",
      "print (torque + tare_torque)*omega/(0.5*rho*A*U**3)\n",
      "\n",
      "print \"\\nDrag calcs\"\n",
      "print drag\n",
      "print (drag + drag)/2\n",
      "print (drag - tare_drag)/(0.5*rho*A*U**2)"
     ],
     "language": "python",
     "metadata": {},
     "outputs": [
      {
       "output_type": "stream",
       "stream": "stdout",
       "text": [
        "Power calcs\n",
        "10.0+/-0.5\n",
        "40.0+/-2.0000000986\n",
        "0.088+/-0.00894427240632\n",
        "\n",
        "Drag calcs\n",
        "2000.0+/-0.786302740679\n",
        "2000.0+/-0.786302740679\n",
        "3.98+/-0.00192768466301\n"
       ]
      }
     ],
     "prompt_number": 13
    },
    {
     "cell_type": "code",
     "collapsed": false,
     "input": [
      "torque2 = unc.ufloat(torque.nominal_value, d_torque)\n",
      "print (torque + torque2)/2"
     ],
     "language": "python",
     "metadata": {},
     "outputs": [
      {
       "output_type": "stream",
       "stream": "stdout",
       "text": [
        "10.0+/-0.559016994375\n"
       ]
      }
     ],
     "prompt_number": 14
    },
    {
     "cell_type": "code",
     "collapsed": false,
     "input": [
      "np.mean(np.sqrt(1+0.5**2)/2)"
     ],
     "language": "python",
     "metadata": {},
     "outputs": [
      {
       "metadata": {},
       "output_type": "pyout",
       "prompt_number": 15,
       "text": [
        "0.55901699437494745"
       ]
      }
     ],
     "prompt_number": 15
    },
    {
     "cell_type": "markdown",
     "metadata": {},
     "source": [
      "### Uncertainty of velocity measurements ###\n",
      "According to the Nortek Vectrino Lab datasheet, the uncertainty of each sample is $\\pm$ 0.5% the measured value $\\pm$ 0.001 m/s. "
     ]
    },
    {
     "cell_type": "code",
     "collapsed": false,
     "input": [
      "from uncertainties import unumpy\n",
      "\n",
      "def calc_d_vel(vel):\n",
      "    return 0.002*np.ones(len(vel))\n",
      "    #return 0.01*np.abs(vel) + 0.002\n",
      "\n",
      "u = np.sin(np.arange(150))\n",
      "delta_u = calc_d_vel(u)\n",
      "delta_up = calc_d_vel(u - u.mean())\n",
      "\n",
      "u_u = np.array(unumpy.uarray(u, delta_u/2))\n",
      "meanu = u_u.sum()/len(u)\n",
      "print meanu\n",
      "print np.mean(u)\n",
      "stdu_u = (np.sum((u_u - meanu)**2)/len(u))**0.5\n",
      "print stdu_u\n",
      "print np.std(u)\n",
      "\n",
      "# Look at just computing the uncertainty for speed\n",
      "delta_meanu = np.sqrt(np.sum(delta_u**2))/len(u)\n",
      "print delta_meanu/2\n",
      "print 0.002/len(u)**0.5/2\n",
      "delta_stdu = np.sqrt(np.sum(delta_up**2))/len(u)\n",
      "delta_stdu = np.sqrt(delta_stdu**2 + delta_meanu**2)/2**0.5\n",
      "print delta_stdu/2"
     ],
     "language": "python",
     "metadata": {},
     "outputs": [
      {
       "output_type": "stream",
       "stream": "stdout",
       "text": [
        "0.00421798045228+/-8.16496580928e-05\n",
        "0.00421798045228\n",
        "0.706646026909+/-8.16496580928e-05"
       ]
      },
      {
       "output_type": "stream",
       "stream": "stdout",
       "text": [
        "\n",
        "0.706646026909\n",
        "8.16496580928e-05\n",
        "8.16496580928e-05\n",
        "8.16496580928e-05\n"
       ]
      }
     ],
     "prompt_number": 151
    },
    {
     "cell_type": "code",
     "collapsed": false,
     "input": [
      "# Now let's compare to using the straight up uncertainty for mean value\n",
      "print unc.ufloat(np.mean(u), calc_d_vel(np.mean(u))/2)"
     ],
     "language": "python",
     "metadata": {},
     "outputs": [
      {
       "output_type": "stream",
       "stream": "stdout",
       "text": [
        "0.00379194627449+/-0.001\n"
       ]
      }
     ],
     "prompt_number": 51
    },
    {
     "cell_type": "code",
     "collapsed": false,
     "input": [],
     "language": "python",
     "metadata": {},
     "outputs": []
    }
   ],
   "metadata": {}
  }
 ]
}