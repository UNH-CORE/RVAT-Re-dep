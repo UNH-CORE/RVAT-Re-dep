{
 "cells": [
  {
   "cell_type": "markdown",
   "metadata": {},
   "source": [
    "# Working with the UNH-RVAT Reynolds number dependence experiment dataset"
   ]
  },
  {
   "cell_type": "code",
   "execution_count": null,
   "metadata": {},
   "outputs": [],
   "source": [
    "import pyrvatrd"
   ]
  },
  {
   "cell_type": "markdown",
   "metadata": {},
   "source": [
    "## Performance curves"
   ]
  },
  {
   "cell_type": "code",
   "execution_count": null,
   "metadata": {},
   "outputs": [],
   "source": [
    "perf_curve = pyrvatrd.load_perf_curve(tow_speed=0.8)\n",
    "perf_curve.plotcp(marker=\"^\")\n",
    "perf_curve.plotcd(color=\"r\")\n",
    "perf_curve.df.head()"
   ]
  },
  {
   "cell_type": "markdown",
   "metadata": {},
   "source": [
    "## Wake profiles"
   ]
  },
  {
   "cell_type": "code",
   "execution_count": null,
   "metadata": {},
   "outputs": [],
   "source": [
    "wake_profile = pyrvatrd.load_wake_profile(tow_speed=1.0, z_h=0.25)\n",
    "wake_profile.plot(quantity=\"mean_u\")\n",
    "wake_profile.df.head()"
   ]
  },
  {
   "cell_type": "markdown",
   "metadata": {},
   "source": [
    "## Wake maps"
   ]
  },
  {
   "cell_type": "code",
   "execution_count": null,
   "metadata": {},
   "outputs": [],
   "source": [
    "wake_map = pyrvatrd.load_wake_map(tow_speed=1.0)\n",
    "wake_map.plot_meancontquiv(show=True)\n",
    "wake_map.plot_k(show=True)\n",
    "wake_map.df[\"mean_u\"].head()"
   ]
  }
 ],
 "metadata": {
  "kernelspec": {
   "display_name": "rvat-re-dep",
   "language": "python",
   "name": "python3"
  },
  "language_info": {
   "codemirror_mode": {
    "name": "ipython",
    "version": 3
   },
   "file_extension": ".py",
   "mimetype": "text/x-python",
   "name": "python",
   "nbconvert_exporter": "python",
   "pygments_lexer": "ipython3",
   "version": "3.12.7"
  }
 },
 "nbformat": 4,
 "nbformat_minor": 2
}
